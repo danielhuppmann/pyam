{
 "cells": [
  {
   "cell_type": "code",
   "execution_count": 1,
   "metadata": {},
   "outputs": [
    {
     "data": {
      "application/javascript": [
       "IPython.OutputArea.prototype._should_scroll = function(lines) { return false; }"
      ],
      "text/plain": [
       "<IPython.core.display.Javascript object>"
      ]
     },
     "metadata": {},
     "output_type": "display_data"
    },
    {
     "name": "stderr",
     "output_type": "stream",
     "text": [
      "pyam - INFO: Running in a notebook, setting `pyam` logging level to `logging.INFO` and adding stderr handler\n"
     ]
    }
   ],
   "source": [
    "import ixmp\n",
    "import pyam"
   ]
  },
  {
   "cell_type": "code",
   "execution_count": 2,
   "metadata": {},
   "outputs": [],
   "source": [
    "mp = ixmp.Platform('integration-test')"
   ]
  },
  {
   "cell_type": "code",
   "execution_count": 3,
   "metadata": {},
   "outputs": [
    {
     "data": {
      "text/html": [
       "<div>\n",
       "<style scoped>\n",
       "    .dataframe tbody tr th:only-of-type {\n",
       "        vertical-align: middle;\n",
       "    }\n",
       "\n",
       "    .dataframe tbody tr th {\n",
       "        vertical-align: top;\n",
       "    }\n",
       "\n",
       "    .dataframe thead th {\n",
       "        text-align: right;\n",
       "    }\n",
       "</style>\n",
       "<table border=\"1\" class=\"dataframe\">\n",
       "  <thead>\n",
       "    <tr style=\"text-align: right;\">\n",
       "      <th></th>\n",
       "      <th>model</th>\n",
       "      <th>scenario</th>\n",
       "      <th>scheme</th>\n",
       "      <th>is_default</th>\n",
       "      <th>is_locked</th>\n",
       "      <th>cre_user</th>\n",
       "      <th>cre_date</th>\n",
       "      <th>upd_user</th>\n",
       "      <th>upd_date</th>\n",
       "      <th>lock_user</th>\n",
       "      <th>lock_date</th>\n",
       "      <th>annotation</th>\n",
       "      <th>version</th>\n",
       "    </tr>\n",
       "  </thead>\n",
       "  <tbody>\n",
       "    <tr>\n",
       "      <th>0</th>\n",
       "      <td>model_a</td>\n",
       "      <td>scen_a</td>\n",
       "      <td>None</td>\n",
       "      <td>1</td>\n",
       "      <td>0</td>\n",
       "      <td>huppmann</td>\n",
       "      <td>2020-06-19 16:07:08.000000</td>\n",
       "      <td>None</td>\n",
       "      <td>None</td>\n",
       "      <td>None</td>\n",
       "      <td>None</td>\n",
       "      <td>importing scenario data from pyam test suite</td>\n",
       "      <td>1</td>\n",
       "    </tr>\n",
       "    <tr>\n",
       "      <th>1</th>\n",
       "      <td>model_a</td>\n",
       "      <td>scen_a</td>\n",
       "      <td>None</td>\n",
       "      <td>0</td>\n",
       "      <td>0</td>\n",
       "      <td>huppmann</td>\n",
       "      <td>2020-06-19 16:08:19.000000</td>\n",
       "      <td>None</td>\n",
       "      <td>None</td>\n",
       "      <td>None</td>\n",
       "      <td>None</td>\n",
       "      <td>importing scenario data from pyam test suite</td>\n",
       "      <td>2</td>\n",
       "    </tr>\n",
       "    <tr>\n",
       "      <th>2</th>\n",
       "      <td>model_a</td>\n",
       "      <td>scen_b</td>\n",
       "      <td>None</td>\n",
       "      <td>1</td>\n",
       "      <td>0</td>\n",
       "      <td>huppmann</td>\n",
       "      <td>2020-06-19 16:07:09.000000</td>\n",
       "      <td>None</td>\n",
       "      <td>None</td>\n",
       "      <td>None</td>\n",
       "      <td>None</td>\n",
       "      <td>importing scenario data from pyam test suite</td>\n",
       "      <td>1</td>\n",
       "    </tr>\n",
       "    <tr>\n",
       "      <th>3</th>\n",
       "      <td>model_b</td>\n",
       "      <td>scen_a</td>\n",
       "      <td>None</td>\n",
       "      <td>1</td>\n",
       "      <td>0</td>\n",
       "      <td>huppmann</td>\n",
       "      <td>2020-06-19 16:13:12.000000</td>\n",
       "      <td>None</td>\n",
       "      <td>None</td>\n",
       "      <td>None</td>\n",
       "      <td>None</td>\n",
       "      <td>importing scenario data from pyam test suite</td>\n",
       "      <td>1</td>\n",
       "    </tr>\n",
       "  </tbody>\n",
       "</table>\n",
       "</div>"
      ],
      "text/plain": [
       "     model scenario scheme  is_default  is_locked  cre_user  \\\n",
       "0  model_a   scen_a   None           1          0  huppmann   \n",
       "1  model_a   scen_a   None           0          0  huppmann   \n",
       "2  model_a   scen_b   None           1          0  huppmann   \n",
       "3  model_b   scen_a   None           1          0  huppmann   \n",
       "\n",
       "                     cre_date upd_user upd_date lock_user lock_date  \\\n",
       "0  2020-06-19 16:07:08.000000     None     None      None      None   \n",
       "1  2020-06-19 16:08:19.000000     None     None      None      None   \n",
       "2  2020-06-19 16:07:09.000000     None     None      None      None   \n",
       "3  2020-06-19 16:13:12.000000     None     None      None      None   \n",
       "\n",
       "                                     annotation  version  \n",
       "0  importing scenario data from pyam test suite        1  \n",
       "1  importing scenario data from pyam test suite        2  \n",
       "2  importing scenario data from pyam test suite        1  \n",
       "3  importing scenario data from pyam test suite        1  "
      ]
     },
     "execution_count": 3,
     "metadata": {},
     "output_type": "execute_result"
    }
   ],
   "source": [
    "mp.scenario_list(default=False)"
   ]
  },
  {
   "cell_type": "code",
   "execution_count": 4,
   "metadata": {},
   "outputs": [],
   "source": [
    "scen = ixmp.Scenario(mp, 'model_b', 'scen_a')"
   ]
  },
  {
   "cell_type": "code",
   "execution_count": 5,
   "metadata": {},
   "outputs": [
    {
     "data": {
      "text/html": [
       "<div>\n",
       "<style scoped>\n",
       "    .dataframe tbody tr th:only-of-type {\n",
       "        vertical-align: middle;\n",
       "    }\n",
       "\n",
       "    .dataframe tbody tr th {\n",
       "        vertical-align: top;\n",
       "    }\n",
       "\n",
       "    .dataframe thead th {\n",
       "        text-align: right;\n",
       "    }\n",
       "</style>\n",
       "<table border=\"1\" class=\"dataframe\">\n",
       "  <thead>\n",
       "    <tr style=\"text-align: right;\">\n",
       "      <th></th>\n",
       "      <th>region</th>\n",
       "      <th>variable</th>\n",
       "      <th>unit</th>\n",
       "      <th>subannual</th>\n",
       "      <th>year</th>\n",
       "      <th>value</th>\n",
       "      <th>model</th>\n",
       "      <th>scenario</th>\n",
       "    </tr>\n",
       "  </thead>\n",
       "  <tbody>\n",
       "    <tr>\n",
       "      <th>0</th>\n",
       "      <td>World</td>\n",
       "      <td>Primary Energy|Coal</td>\n",
       "      <td>EJ/yr</td>\n",
       "      <td>Summer</td>\n",
       "      <td>2005</td>\n",
       "      <td>0.4</td>\n",
       "      <td>model_b</td>\n",
       "      <td>scen_a</td>\n",
       "    </tr>\n",
       "    <tr>\n",
       "      <th>1</th>\n",
       "      <td>World</td>\n",
       "      <td>Primary Energy|Coal</td>\n",
       "      <td>EJ/yr</td>\n",
       "      <td>Summer</td>\n",
       "      <td>2010</td>\n",
       "      <td>2.0</td>\n",
       "      <td>model_b</td>\n",
       "      <td>scen_a</td>\n",
       "    </tr>\n",
       "    <tr>\n",
       "      <th>2</th>\n",
       "      <td>World</td>\n",
       "      <td>Primary Energy|Coal</td>\n",
       "      <td>EJ/yr</td>\n",
       "      <td>Year</td>\n",
       "      <td>2005</td>\n",
       "      <td>0.9</td>\n",
       "      <td>model_b</td>\n",
       "      <td>scen_a</td>\n",
       "    </tr>\n",
       "    <tr>\n",
       "      <th>3</th>\n",
       "      <td>World</td>\n",
       "      <td>Primary Energy|Coal</td>\n",
       "      <td>EJ/yr</td>\n",
       "      <td>Year</td>\n",
       "      <td>2010</td>\n",
       "      <td>5.0</td>\n",
       "      <td>model_b</td>\n",
       "      <td>scen_a</td>\n",
       "    </tr>\n",
       "    <tr>\n",
       "      <th>4</th>\n",
       "      <td>World</td>\n",
       "      <td>Primary Energy</td>\n",
       "      <td>EJ/yr</td>\n",
       "      <td>Summer</td>\n",
       "      <td>2005</td>\n",
       "      <td>1.0</td>\n",
       "      <td>model_b</td>\n",
       "      <td>scen_a</td>\n",
       "    </tr>\n",
       "    <tr>\n",
       "      <th>5</th>\n",
       "      <td>World</td>\n",
       "      <td>Primary Energy</td>\n",
       "      <td>EJ/yr</td>\n",
       "      <td>Summer</td>\n",
       "      <td>2010</td>\n",
       "      <td>3.0</td>\n",
       "      <td>model_b</td>\n",
       "      <td>scen_a</td>\n",
       "    </tr>\n",
       "    <tr>\n",
       "      <th>6</th>\n",
       "      <td>World</td>\n",
       "      <td>Primary Energy</td>\n",
       "      <td>EJ/yr</td>\n",
       "      <td>Year</td>\n",
       "      <td>2005</td>\n",
       "      <td>3.0</td>\n",
       "      <td>model_b</td>\n",
       "      <td>scen_a</td>\n",
       "    </tr>\n",
       "    <tr>\n",
       "      <th>7</th>\n",
       "      <td>World</td>\n",
       "      <td>Primary Energy</td>\n",
       "      <td>EJ/yr</td>\n",
       "      <td>Year</td>\n",
       "      <td>2010</td>\n",
       "      <td>8.0</td>\n",
       "      <td>model_b</td>\n",
       "      <td>scen_a</td>\n",
       "    </tr>\n",
       "  </tbody>\n",
       "</table>\n",
       "</div>"
      ],
      "text/plain": [
       "  region             variable   unit subannual  year  value    model scenario\n",
       "0  World  Primary Energy|Coal  EJ/yr    Summer  2005    0.4  model_b   scen_a\n",
       "1  World  Primary Energy|Coal  EJ/yr    Summer  2010    2.0  model_b   scen_a\n",
       "2  World  Primary Energy|Coal  EJ/yr      Year  2005    0.9  model_b   scen_a\n",
       "3  World  Primary Energy|Coal  EJ/yr      Year  2010    5.0  model_b   scen_a\n",
       "4  World       Primary Energy  EJ/yr    Summer  2005    1.0  model_b   scen_a\n",
       "5  World       Primary Energy  EJ/yr    Summer  2010    3.0  model_b   scen_a\n",
       "6  World       Primary Energy  EJ/yr      Year  2005    3.0  model_b   scen_a\n",
       "7  World       Primary Energy  EJ/yr      Year  2010    8.0  model_b   scen_a"
      ]
     },
     "execution_count": 5,
     "metadata": {},
     "output_type": "execute_result"
    }
   ],
   "source": [
    "scen.timeseries()"
   ]
  },
  {
   "cell_type": "code",
   "execution_count": null,
   "metadata": {},
   "outputs": [],
   "source": [
    "scen.set_meta('string', 'baz')"
   ]
  },
  {
   "cell_type": "code",
   "execution_count": null,
   "metadata": {},
   "outputs": [],
   "source": [
    "scen.set_meta('number', 3)"
   ]
  },
  {
   "cell_type": "code",
   "execution_count": null,
   "metadata": {},
   "outputs": [],
   "source": []
  }
 ],
 "metadata": {
  "kernelspec": {
   "display_name": "Python 3",
   "language": "python",
   "name": "python3"
  },
  "language_info": {
   "codemirror_mode": {
    "name": "ipython",
    "version": 3
   },
   "file_extension": ".py",
   "mimetype": "text/x-python",
   "name": "python",
   "nbconvert_exporter": "python",
   "pygments_lexer": "ipython3",
   "version": "3.7.3"
  },
  "latex_envs": {
   "LaTeX_envs_menu_present": true,
   "autoclose": false,
   "autocomplete": true,
   "bibliofile": "biblio.bib",
   "cite_by": "apalike",
   "current_citInitial": 1,
   "eqLabelWithNumbers": true,
   "eqNumInitial": 1,
   "hotkeys": {
    "equation": "Ctrl-E",
    "itemize": "Ctrl-I"
   },
   "labels_anchors": false,
   "latex_user_defs": false,
   "report_style_numbering": false,
   "user_envs_cfg": false
  }
 },
 "nbformat": 4,
 "nbformat_minor": 2
}
